{
  "nbformat": 4,
  "nbformat_minor": 0,
  "metadata": {
    "kernelspec": {
      "display_name": "Python 3",
      "language": "python",
      "name": "python3"
    },
    "language_info": {
      "codemirror_mode": {
        "name": "ipython",
        "version": 3
      },
      "file_extension": ".py",
      "mimetype": "text/x-python",
      "name": "python",
      "nbconvert_exporter": "python",
      "pygments_lexer": "ipython3",
      "version": "3.7.7"
    },
    "colab": {
      "name": "model_2.ipynb",
      "provenance": [],
      "collapsed_sections": [],
      "include_colab_link": true
    },
    "accelerator": "GPU"
  },
  "cells": [
    {
      "cell_type": "markdown",
      "metadata": {
        "id": "view-in-github",
        "colab_type": "text"
      },
      "source": [
        "<a href=\"https://colab.research.google.com/github/Cristinamulas/transfer_learning_keras/blob/main/model_2.ipynb\" target=\"_parent\"><img src=\"https://colab.research.google.com/assets/colab-badge.svg\" alt=\"Open In Colab\"/></a>"
      ]
    },
    {
      "cell_type": "code",
      "metadata": {
        "id": "MkHalM8H4RQ_"
      },
      "source": [
        "import tensorflow as tf\n",
        "import os\n",
        "import matplotlib.pyplot as plt\n",
        "import matplotlib.image as mpimg\n",
        "%matplotlib inline\n",
        "import cv2\n",
        "\n",
        "from keras.preprocessing.image import ImageDataGenerator\n",
        "from keras.applications import VGG16,ResNet50\n",
        "\n",
        "'Import the datagenerator to augment images'\n",
        "from keras.preprocessing.image import ImageDataGenerator\n",
        "\n",
        "'''Import the optimizers and leanring rate annealer (which will reduce the learning rate once a particular metric we choose(in this case validation error) \n",
        "does not reduce after a user defined number of epochs)'''\n",
        "from keras.optimizers import SGD,Adam\n",
        "from keras.callbacks import ReduceLROnPlateau\n",
        "\n",
        "'Lastly import the final layers that will be added on top of the base model'\n",
        "from keras.layers import Flatten,Dense,BatchNormalization,Activation,Dropout\n",
        "from keras.models import Sequential\n",
        "\n",
        "import datetime\n",
        "import keras"
      ],
      "execution_count": 88,
      "outputs": []
    },
    {
      "cell_type": "code",
      "metadata": {
        "id": "4XVNQ3ul4RRH"
      },
      "source": [
        "def plot_images_from_dir(path):\n",
        "    \"\"\" it takes a path and return the plot fo each image\"\"\"\n",
        "    images_classes = []\n",
        "    for cls in os.listdir(path): # get all the classes in for each folder\n",
        "         if cls != '.DS_Store':\n",
        "            images_classes.append(cls)\n",
        "    for i in images_classes: # loop over each class\n",
        "        new_images = []\n",
        "        my_folder = os.path.join(path,i)\n",
        "        for file in os.listdir(os.path.join(path,i)):\n",
        "            if file != '.DS_Store' and file != '.ipynb_checkpoints':\n",
        "                new_images.append(cv2.imread(os.path.join(my_folder,file))) # convert the path into an array\n",
        "        plt.figure(figsize=(50,50))\n",
        "        columns = 10\n",
        "        for i, image in enumerate(new_images):\n",
        "            plt.subplot(len(new_images) / columns + 1, columns, i + 1)\n",
        "            plt.imshow(image)\n",
        "            plt.show()"
      ],
      "execution_count": 89,
      "outputs": []
    },
    {
      "cell_type": "code",
      "metadata": {
        "id": "dCMoCbwH4RRK"
      },
      "source": [
        "# folder = \"/Users/cristinamulas/Desktop/transfer_learning_keras/data/val\"\n",
        "\n",
        "# plot_images_from_dir(folder)"
      ],
      "execution_count": 90,
      "outputs": []
    },
    {
      "cell_type": "code",
      "metadata": {
        "id": "bfgUuntn6T4Q",
        "outputId": "b9e80ca0-0b2a-4d6b-bf30-b46b37f0098e",
        "colab": {
          "base_uri": "https://localhost:8080/"
        }
      },
      "source": [
        "from google.colab import drive\n",
        "drive.mount('/content/drive')"
      ],
      "execution_count": 91,
      "outputs": [
        {
          "output_type": "stream",
          "text": [
            "Drive already mounted at /content/drive; to attempt to forcibly remount, call drive.mount(\"/content/drive\", force_remount=True).\n"
          ],
          "name": "stdout"
        }
      ]
    },
    {
      "cell_type": "code",
      "metadata": {
        "id": "vQm8UcH55sG5",
        "outputId": "c4fb2fe8-c4e6-4d52-a10f-494bca68e0c2",
        "colab": {
          "base_uri": "https://localhost:8080/",
          "height": 34
        }
      },
      "source": [
        "os.getcwd()\n",
        "os.chdir('/content/drive/My Drive/transfer_learning_keras/data/')\n",
        "os.getcwd()\n"
      ],
      "execution_count": 92,
      "outputs": [
        {
          "output_type": "execute_result",
          "data": {
            "application/vnd.google.colaboratory.intrinsic+json": {
              "type": "string"
            },
            "text/plain": [
              "'/content/drive/My Drive/transfer_learning_keras/data'"
            ]
          },
          "metadata": {
            "tags": []
          },
          "execution_count": 92
        }
      ]
    },
    {
      "cell_type": "code",
      "metadata": {
        "id": "Rqf-Yj_J4RRM",
        "outputId": "48b1954e-0980-49eb-916c-dd62eab01d35",
        "colab": {
          "base_uri": "https://localhost:8080/",
          "height": 34
        }
      },
      "source": [
        "base_path = os.getcwd() # get the working direntory\n",
        "train_data_path = os.path.join(base_path + '/train') # add the new folder\n",
        "train_data_path\n",
        "\n",
        "test_data_path = os.path.join(base_path + '/test') # add the new folder\n",
        "test_data_path\n",
        "\n",
        "val_data_path = os.path.join(base_path + '/val') # add the new folder\n",
        "val_data_path"
      ],
      "execution_count": 93,
      "outputs": [
        {
          "output_type": "execute_result",
          "data": {
            "application/vnd.google.colaboratory.intrinsic+json": {
              "type": "string"
            },
            "text/plain": [
              "'/content/drive/My Drive/transfer_learning_keras/data/val'"
            ]
          },
          "metadata": {
            "tags": []
          },
          "execution_count": 93
        }
      ]
    },
    {
      "cell_type": "code",
      "metadata": {
        "id": "VYYhFyR14RRP"
      },
      "source": [
        "train_generator = ImageDataGenerator(rescale=1./255,\n",
        "                                     rotation_range=4,\n",
        "                                   width_shift_range=0.1, \n",
        "                                   height_shift_range=0.1, \n",
        "                                   shear_range=0.3, \n",
        "                                   zoom_range=0.1, \n",
        "                                   horizontal_flip=True)\n",
        "test_generator = ImageDataGenerator(rescale=1./255)"
      ],
      "execution_count": 94,
      "outputs": []
    },
    {
      "cell_type": "code",
      "metadata": {
        "id": "P9f440gv4RRR",
        "outputId": "9a1a1247-81cd-4bd2-e2b5-9b6f3a667a45",
        "colab": {
          "base_uri": "https://localhost:8080/"
        }
      },
      "source": [
        "X_train_generator = train_generator.flow_from_directory(train_data_path, target_size=(32, 32), color_mode=\"rgb\", batch_size = 32)\n",
        "X_val_generator = test_generator.flow_from_directory(val_data_path, target_size=(32, 32), color_mode=\"rgb\" )\n",
        "X_test_generator = test_generator.flow_from_directory(test_data_path, target_size=(32, 32), color_mode=\"rgb\")"
      ],
      "execution_count": 116,
      "outputs": [
        {
          "output_type": "stream",
          "text": [
            "Found 1208 images belonging to 3 classes.\n",
            "Found 451 images belonging to 3 classes.\n",
            "Found 5 images belonging to 3 classes.\n"
          ],
          "name": "stdout"
        }
      ]
    },
    {
      "cell_type": "code",
      "metadata": {
        "id": "eOpEoK9T4RRT",
        "outputId": "43ad57d9-8bcd-44e2-ccc3-ed365efd5644",
        "colab": {
          "base_uri": "https://localhost:8080/",
          "height": 165
        }
      },
      "source": [
        ""
      ],
      "execution_count": 1,
      "outputs": [
        {
          "output_type": "error",
          "ename": "NameError",
          "evalue": "ignored",
          "traceback": [
            "\u001b[0;31m---------------------------------------------------------------------------\u001b[0m",
            "\u001b[0;31mNameError\u001b[0m                                 Traceback (most recent call last)",
            "\u001b[0;32m<ipython-input-1-610c40782fcc>\u001b[0m in \u001b[0;36m<module>\u001b[0;34m()\u001b[0m\n\u001b[0;32m----> 1\u001b[0;31m \u001b[0mos\u001b[0m\u001b[0;34m.\u001b[0m\u001b[0mlistdir\u001b[0m\u001b[0;34m(\u001b[0m\u001b[0;34m'/Users/cristinamulas/Desktop/transfer_learning_keras/data/val'\u001b[0m\u001b[0;34m)\u001b[0m\u001b[0;34m\u001b[0m\u001b[0;34m\u001b[0m\u001b[0m\n\u001b[0m",
            "\u001b[0;31mNameError\u001b[0m: name 'os' is not defined"
          ]
        }
      ]
    },
    {
      "cell_type": "markdown",
      "metadata": {
        "id": "w8_ntvwh7qB2"
      },
      "source": [
        "### Import VGG16 as a base model"
      ]
    },
    {
      "cell_type": "code",
      "metadata": {
        "id": "mlKsw8OE4RRY"
      },
      "source": [
        "base_model_1 = VGG16(include_top=False,weights='imagenet',input_shape=(32,32,3))"
      ],
      "execution_count": 97,
      "outputs": []
    },
    {
      "cell_type": "code",
      "metadata": {
        "id": "0HK5dQUA8QPm",
        "outputId": "699999dd-72e4-49cf-fb5d-c064540e06f8",
        "colab": {
          "base_uri": "https://localhost:8080/"
        }
      },
      "source": [
        "base_model_1.summary()"
      ],
      "execution_count": 98,
      "outputs": [
        {
          "output_type": "stream",
          "text": [
            "Model: \"vgg16\"\n",
            "_________________________________________________________________\n",
            "Layer (type)                 Output Shape              Param #   \n",
            "=================================================================\n",
            "input_2 (InputLayer)         [(None, 32, 32, 3)]       0         \n",
            "_________________________________________________________________\n",
            "block1_conv1 (Conv2D)        (None, 32, 32, 64)        1792      \n",
            "_________________________________________________________________\n",
            "block1_conv2 (Conv2D)        (None, 32, 32, 64)        36928     \n",
            "_________________________________________________________________\n",
            "block1_pool (MaxPooling2D)   (None, 16, 16, 64)        0         \n",
            "_________________________________________________________________\n",
            "block2_conv1 (Conv2D)        (None, 16, 16, 128)       73856     \n",
            "_________________________________________________________________\n",
            "block2_conv2 (Conv2D)        (None, 16, 16, 128)       147584    \n",
            "_________________________________________________________________\n",
            "block2_pool (MaxPooling2D)   (None, 8, 8, 128)         0         \n",
            "_________________________________________________________________\n",
            "block3_conv1 (Conv2D)        (None, 8, 8, 256)         295168    \n",
            "_________________________________________________________________\n",
            "block3_conv2 (Conv2D)        (None, 8, 8, 256)         590080    \n",
            "_________________________________________________________________\n",
            "block3_conv3 (Conv2D)        (None, 8, 8, 256)         590080    \n",
            "_________________________________________________________________\n",
            "block3_pool (MaxPooling2D)   (None, 4, 4, 256)         0         \n",
            "_________________________________________________________________\n",
            "block4_conv1 (Conv2D)        (None, 4, 4, 512)         1180160   \n",
            "_________________________________________________________________\n",
            "block4_conv2 (Conv2D)        (None, 4, 4, 512)         2359808   \n",
            "_________________________________________________________________\n",
            "block4_conv3 (Conv2D)        (None, 4, 4, 512)         2359808   \n",
            "_________________________________________________________________\n",
            "block4_pool (MaxPooling2D)   (None, 2, 2, 512)         0         \n",
            "_________________________________________________________________\n",
            "block5_conv1 (Conv2D)        (None, 2, 2, 512)         2359808   \n",
            "_________________________________________________________________\n",
            "block5_conv2 (Conv2D)        (None, 2, 2, 512)         2359808   \n",
            "_________________________________________________________________\n",
            "block5_conv3 (Conv2D)        (None, 2, 2, 512)         2359808   \n",
            "_________________________________________________________________\n",
            "block5_pool (MaxPooling2D)   (None, 1, 1, 512)         0         \n",
            "=================================================================\n",
            "Total params: 14,714,688\n",
            "Trainable params: 14,714,688\n",
            "Non-trainable params: 0\n",
            "_________________________________________________________________\n"
          ],
          "name": "stdout"
        }
      ]
    },
    {
      "cell_type": "code",
      "metadata": {
        "id": "QxgQTvfE4RRa"
      },
      "source": [
        "\n",
        "def model_generator(model, layers=[]):\n",
        "    model = model\n",
        "    for layer in layers:\n",
        "        model.add(layer)\n",
        "    model.summary()\n",
        "    return model"
      ],
      "execution_count": 13,
      "outputs": []
    },
    {
      "cell_type": "code",
      "metadata": {
        "id": "CeElJCkQ8QI3",
        "outputId": "d01ce08d-9007-4418-bd7a-6827e6a2db23",
        "colab": {
          "base_uri": "https://localhost:8080/"
        }
      },
      "source": [
        "layers = base_model_1.layers + [Flatten(), Dense(128,activation=('relu'),input_dim=512),Dropout(.2), Dense(3, activation='softmax')]\n",
        "# compile_kwargs = {\"loss\":\"categorical_crossentropy\", \"optimizer\":Adam(learning_rate=0.00005), \"metrics\":['accuracy']}\n",
        "modelVGG16 = model_generator(Sequential(), layers)"
      ],
      "execution_count": 117,
      "outputs": [
        {
          "output_type": "stream",
          "text": [
            "Model: \"sequential_3\"\n",
            "_________________________________________________________________\n",
            "Layer (type)                 Output Shape              Param #   \n",
            "=================================================================\n",
            "block1_conv1 (Conv2D)        (None, 32, 32, 64)        1792      \n",
            "_________________________________________________________________\n",
            "block1_conv2 (Conv2D)        (None, 32, 32, 64)        36928     \n",
            "_________________________________________________________________\n",
            "block1_pool (MaxPooling2D)   (None, 16, 16, 64)        0         \n",
            "_________________________________________________________________\n",
            "block2_conv1 (Conv2D)        (None, 16, 16, 128)       73856     \n",
            "_________________________________________________________________\n",
            "block2_conv2 (Conv2D)        (None, 16, 16, 128)       147584    \n",
            "_________________________________________________________________\n",
            "block2_pool (MaxPooling2D)   (None, 8, 8, 128)         0         \n",
            "_________________________________________________________________\n",
            "block3_conv1 (Conv2D)        (None, 8, 8, 256)         295168    \n",
            "_________________________________________________________________\n",
            "block3_conv2 (Conv2D)        (None, 8, 8, 256)         590080    \n",
            "_________________________________________________________________\n",
            "block3_conv3 (Conv2D)        (None, 8, 8, 256)         590080    \n",
            "_________________________________________________________________\n",
            "block3_pool (MaxPooling2D)   (None, 4, 4, 256)         0         \n",
            "_________________________________________________________________\n",
            "block4_conv1 (Conv2D)        (None, 4, 4, 512)         1180160   \n",
            "_________________________________________________________________\n",
            "block4_conv2 (Conv2D)        (None, 4, 4, 512)         2359808   \n",
            "_________________________________________________________________\n",
            "block4_conv3 (Conv2D)        (None, 4, 4, 512)         2359808   \n",
            "_________________________________________________________________\n",
            "block4_pool (MaxPooling2D)   (None, 2, 2, 512)         0         \n",
            "_________________________________________________________________\n",
            "block5_conv1 (Conv2D)        (None, 2, 2, 512)         2359808   \n",
            "_________________________________________________________________\n",
            "block5_conv2 (Conv2D)        (None, 2, 2, 512)         2359808   \n",
            "_________________________________________________________________\n",
            "block5_conv3 (Conv2D)        (None, 2, 2, 512)         2359808   \n",
            "_________________________________________________________________\n",
            "block5_pool (MaxPooling2D)   (None, 1, 1, 512)         0         \n",
            "_________________________________________________________________\n",
            "flatten_5 (Flatten)          (None, 512)               0         \n",
            "_________________________________________________________________\n",
            "dense_10 (Dense)             (None, 128)               65664     \n",
            "_________________________________________________________________\n",
            "dropout_2 (Dropout)          (None, 128)               0         \n",
            "_________________________________________________________________\n",
            "dense_11 (Dense)             (None, 3)                 387       \n",
            "=================================================================\n",
            "Total params: 14,780,739\n",
            "Trainable params: 14,780,739\n",
            "Non-trainable params: 0\n",
            "_________________________________________________________________\n"
          ],
          "name": "stdout"
        }
      ]
    },
    {
      "cell_type": "code",
      "metadata": {
        "id": "66dyLL1h8QLn"
      },
      "source": [
        ""
      ],
      "execution_count": null,
      "outputs": []
    },
    {
      "cell_type": "code",
      "metadata": {
        "id": "2Cle5uEQ8mn5"
      },
      "source": [
        "learn_rate=.001\n",
        "\n",
        "sgd=SGD(lr=learn_rate,momentum=.9,nesterov=False)\n",
        "adam=Adam(lr=learn_rate)"
      ],
      "execution_count": 111,
      "outputs": []
    },
    {
      "cell_type": "code",
      "metadata": {
        "id": "s77AXt0W8QN2"
      },
      "source": [
        "compile_kwargs = {\"loss\":\"categorical_crossentropy\", \"optimizer\":adam, \"metrics\":['accuracy']}\n"
      ],
      "execution_count": 112,
      "outputs": []
    },
    {
      "cell_type": "code",
      "metadata": {
        "id": "9bLjIYLA8QRJ"
      },
      "source": [
        "  def fit(model,  compile_kwargs={}):\n",
        "        model.compile(**compile_kwargs)\n",
        "        log_dir = log_dir = \"logs/fit/\" + datetime.datetime.now().strftime(\"%Y%m%d-%H%M%S\")\n",
        "\n",
        "        tbCallBack = keras.callbacks.TensorBoard(log_dir=log_dir, histogram_freq=0, write_graph=True, write_images=True)\n",
        "        return model.fit(X_train_generator, epochs=35,  validation_data=X_val_generator,callbacks=[tbCallBack])\n",
        "        "
      ],
      "execution_count": 118,
      "outputs": []
    },
    {
      "cell_type": "code",
      "metadata": {
        "id": "UueNLmrlAAgA",
        "outputId": "802d89ed-4a1e-4f1a-c93c-218f74be0fd8",
        "colab": {
          "base_uri": "https://localhost:8080/"
        }
      },
      "source": [
        "history = fit(modelc3, compile_kwargs)"
      ],
      "execution_count": 119,
      "outputs": [
        {
          "output_type": "stream",
          "text": [
            "Epoch 1/35\n",
            " 2/38 [>.............................] - ETA: 4s - loss: 0.4219 - accuracy: 0.8125WARNING:tensorflow:Callbacks method `on_train_batch_end` is slow compared to the batch time (batch time: 0.0900s vs `on_train_batch_end` time: 0.1497s). Check your callbacks.\n",
            "38/38 [==============================] - 6s 167ms/step - loss: 0.5071 - accuracy: 0.8005 - val_loss: 1.1682 - val_accuracy: 0.4612\n",
            "Epoch 2/35\n",
            "38/38 [==============================] - 6s 146ms/step - loss: 0.5377 - accuracy: 0.7806 - val_loss: 1.0861 - val_accuracy: 0.5055\n",
            "Epoch 3/35\n",
            "38/38 [==============================] - 6s 146ms/step - loss: 0.4567 - accuracy: 0.8245 - val_loss: 0.9593 - val_accuracy: 0.4967\n",
            "Epoch 4/35\n",
            "38/38 [==============================] - 6s 148ms/step - loss: 0.4509 - accuracy: 0.8286 - val_loss: 1.0337 - val_accuracy: 0.4856\n",
            "Epoch 5/35\n",
            "38/38 [==============================] - 6s 146ms/step - loss: 0.4391 - accuracy: 0.8311 - val_loss: 1.2367 - val_accuracy: 0.4989\n",
            "Epoch 6/35\n",
            "38/38 [==============================] - 6s 147ms/step - loss: 0.4241 - accuracy: 0.8320 - val_loss: 1.3062 - val_accuracy: 0.5100\n",
            "Epoch 7/35\n",
            "38/38 [==============================] - 6s 146ms/step - loss: 0.5248 - accuracy: 0.8088 - val_loss: 1.0741 - val_accuracy: 0.4967\n",
            "Epoch 8/35\n",
            "38/38 [==============================] - 6s 146ms/step - loss: 0.4563 - accuracy: 0.8253 - val_loss: 0.9216 - val_accuracy: 0.4922\n",
            "Epoch 9/35\n",
            "38/38 [==============================] - 6s 146ms/step - loss: 0.4431 - accuracy: 0.8220 - val_loss: 1.1708 - val_accuracy: 0.4723\n",
            "Epoch 10/35\n",
            "38/38 [==============================] - 6s 147ms/step - loss: 0.4094 - accuracy: 0.8311 - val_loss: 1.2119 - val_accuracy: 0.5011\n",
            "Epoch 11/35\n",
            "38/38 [==============================] - 6s 146ms/step - loss: 0.4269 - accuracy: 0.8295 - val_loss: 1.1934 - val_accuracy: 0.5055\n",
            "Epoch 12/35\n",
            "38/38 [==============================] - 6s 146ms/step - loss: 0.5141 - accuracy: 0.8038 - val_loss: 1.0409 - val_accuracy: 0.4989\n",
            "Epoch 13/35\n",
            "38/38 [==============================] - 6s 146ms/step - loss: 0.4552 - accuracy: 0.8179 - val_loss: 1.2126 - val_accuracy: 0.4878\n",
            "Epoch 14/35\n",
            "38/38 [==============================] - 6s 147ms/step - loss: 0.4345 - accuracy: 0.8419 - val_loss: 1.0712 - val_accuracy: 0.5011\n",
            "Epoch 15/35\n",
            "38/38 [==============================] - 6s 146ms/step - loss: 0.5221 - accuracy: 0.7947 - val_loss: 1.1156 - val_accuracy: 0.4568\n",
            "Epoch 16/35\n",
            "38/38 [==============================] - 6s 145ms/step - loss: 0.9795 - accuracy: 0.6432 - val_loss: 1.1011 - val_accuracy: 0.3792\n",
            "Epoch 17/35\n",
            "38/38 [==============================] - 6s 147ms/step - loss: 0.6383 - accuracy: 0.7541 - val_loss: 0.9628 - val_accuracy: 0.4723\n",
            "Epoch 18/35\n",
            "38/38 [==============================] - 5s 144ms/step - loss: 0.5711 - accuracy: 0.7848 - val_loss: 0.9926 - val_accuracy: 0.4922\n",
            "Epoch 19/35\n",
            "38/38 [==============================] - 6s 146ms/step - loss: 0.5104 - accuracy: 0.7939 - val_loss: 1.0642 - val_accuracy: 0.4701\n",
            "Epoch 20/35\n",
            "38/38 [==============================] - 6s 147ms/step - loss: 0.4779 - accuracy: 0.8154 - val_loss: 0.9642 - val_accuracy: 0.4945\n",
            "Epoch 21/35\n",
            "38/38 [==============================] - 6s 149ms/step - loss: 0.4658 - accuracy: 0.8154 - val_loss: 1.2600 - val_accuracy: 0.4900\n",
            "Epoch 22/35\n",
            "38/38 [==============================] - 6s 147ms/step - loss: 0.4466 - accuracy: 0.8228 - val_loss: 1.0280 - val_accuracy: 0.4767\n",
            "Epoch 23/35\n",
            "38/38 [==============================] - 6s 147ms/step - loss: 0.5411 - accuracy: 0.7881 - val_loss: 1.0344 - val_accuracy: 0.5011\n",
            "Epoch 24/35\n",
            "38/38 [==============================] - 6s 145ms/step - loss: 0.4718 - accuracy: 0.8171 - val_loss: 1.0749 - val_accuracy: 0.4967\n",
            "Epoch 25/35\n",
            "38/38 [==============================] - 6s 147ms/step - loss: 0.4463 - accuracy: 0.8286 - val_loss: 1.1563 - val_accuracy: 0.5011\n",
            "Epoch 26/35\n",
            "38/38 [==============================] - 6s 148ms/step - loss: 0.4396 - accuracy: 0.8320 - val_loss: 0.9743 - val_accuracy: 0.5033\n",
            "Epoch 27/35\n",
            "38/38 [==============================] - 6s 146ms/step - loss: 0.4636 - accuracy: 0.8171 - val_loss: 1.1405 - val_accuracy: 0.4900\n",
            "Epoch 28/35\n",
            "38/38 [==============================] - 6s 146ms/step - loss: 0.4546 - accuracy: 0.8245 - val_loss: 1.1787 - val_accuracy: 0.4878\n",
            "Epoch 29/35\n",
            "38/38 [==============================] - 6s 147ms/step - loss: 0.4418 - accuracy: 0.8179 - val_loss: 1.2694 - val_accuracy: 0.4989\n",
            "Epoch 30/35\n",
            "38/38 [==============================] - 6s 148ms/step - loss: 0.4345 - accuracy: 0.8262 - val_loss: 1.0787 - val_accuracy: 0.4945\n",
            "Epoch 31/35\n",
            "38/38 [==============================] - 6s 146ms/step - loss: 0.4371 - accuracy: 0.8253 - val_loss: 4.6867 - val_accuracy: 0.4834\n",
            "Epoch 32/35\n",
            "38/38 [==============================] - 6s 146ms/step - loss: 0.4116 - accuracy: 0.8344 - val_loss: 1.4445 - val_accuracy: 0.4834\n",
            "Epoch 33/35\n",
            "38/38 [==============================] - 6s 148ms/step - loss: 0.4264 - accuracy: 0.8303 - val_loss: 2.1221 - val_accuracy: 0.4989\n",
            "Epoch 34/35\n",
            "38/38 [==============================] - 6s 147ms/step - loss: 0.4307 - accuracy: 0.8295 - val_loss: 2.1442 - val_accuracy: 0.4812\n",
            "Epoch 35/35\n",
            "38/38 [==============================] - 6s 149ms/step - loss: 0.4552 - accuracy: 0.8328 - val_loss: 0.9638 - val_accuracy: 0.4656\n"
          ],
          "name": "stdout"
        }
      ]
    },
    {
      "cell_type": "code",
      "metadata": {
        "id": "Nue-G0sKAqUS",
        "outputId": "3652e5bb-470f-4ba4-8d63-9596198892b6",
        "colab": {
          "base_uri": "https://localhost:8080/",
          "height": 573
        }
      },
      "source": [
        "\n",
        "plt.plot(history.history['accuracy'])\n",
        "plt.plot(history.history['val_accuracy'])\n",
        "plt.title('model accuracy')\n",
        "plt.ylabel('accuracy')\n",
        "plt.xlabel('epoch')\n",
        "plt.legend(['train', 'validation'], loc='upper left')\n",
        "plt.show()\n",
        "# \"Loss\"\n",
        "plt.plot(history.history['loss'])\n",
        "plt.plot(history.history['val_loss'])\n",
        "plt.title('model loss')\n",
        "plt.ylabel('loss')\n",
        "plt.xlabel('epoch')\n",
        "plt.legend(['train', 'validation'], loc='upper left')\n",
        "plt.show()"
      ],
      "execution_count": 120,
      "outputs": [
        {
          "output_type": "display_data",
          "data": {
            "image/png": "[encoded data removed]",
            "text/plain": [
              "<Figure size 432x288 with 1 Axes>"
            ]
          },
          "metadata": {
            "tags": [],
            "needs_background": "light"
          }
        },
        {
          "output_type": "display_data",
          "data": {
            "image/png": "[encoded data removed]",
            "text/plain": [
              "<Figure size 432x288 with 1 Axes>"
            ]
          },
          "metadata": {
            "tags": [],
            "needs_background": "light"
          }
        }
      ]
    },
    {
      "cell_type": "code",
      "metadata": {
        "id": "vkmfpggbEAdk"
      },
      "source": [
        "os.getcwd()\n",
        "os.chdir('/content/drive/My Drive/transfer_learning_keras/data/val/metal')"
      ],
      "execution_count": 86,
      "outputs": []
    },
    {
      "cell_type": "code",
      "metadata": {
        "id": "6sWlI_E3Ew8f",
        "outputId": "f5e63d97-53fe-4852-d314-393b8f6b0a10",
        "colab": {
          "base_uri": "https://localhost:8080/"
        }
      },
      "source": [
        "len(os.listdir())"
      ],
      "execution_count": 87,
      "outputs": [
        {
          "output_type": "execute_result",
          "data": {
            "text/plain": [
              "177"
            ]
          },
          "metadata": {
            "tags": []
          },
          "execution_count": 87
        }
      ]
    },
    {
      "cell_type": "code",
      "metadata": {
        "id": "Q4ZHln8bE8gr"
      },
      "source": [
        "## Arregalr validation set plasetic\n",
        "# usar data augmetation en validation set\n",
        "# una imagen para predecir\n"
      ],
      "execution_count": null,
      "outputs": []
    }
  ]
}