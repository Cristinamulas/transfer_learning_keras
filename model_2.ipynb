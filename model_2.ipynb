{
  "nbformat": 4,
  "nbformat_minor": 0,
  "metadata": {
    "kernelspec": {
      "display_name": "Python 3",
      "language": "python",
      "name": "python3"
    },
    "language_info": {
      "codemirror_mode": {
        "name": "ipython",
        "version": 3
      },
      "file_extension": ".py",
      "mimetype": "text/x-python",
      "name": "python",
      "nbconvert_exporter": "python",
      "pygments_lexer": "ipython3",
      "version": "3.7.7"
    },
    "colab": {
      "name": "model_2.ipynb",
      "provenance": [],
      "collapsed_sections": [],
      "include_colab_link": true
    }
  },
  "cells": [
    {
      "cell_type": "markdown",
      "metadata": {
        "id": "view-in-github",
        "colab_type": "text"
      },
      "source": [
        "<a href=\"https://colab.research.google.com/github/Cristinamulas/transfer_learning_keras/blob/main/model_2.ipynb\" target=\"_parent\"><img src=\"https://colab.research.google.com/assets/colab-badge.svg\" alt=\"Open In Colab\"/></a>"
      ]
    },
    {
      "cell_type": "code",
      "metadata": {
        "id": "MkHalM8H4RQ_"
      },
      "source": [
        "import tensorflow as tf\n",
        "import os\n",
        "import matplotlib.pyplot as plt\n",
        "import matplotlib.image as mpimg\n",
        "%matplotlib inline\n",
        "import cv2\n",
        "\n",
        "from keras.preprocessing.image import ImageDataGenerator"
      ],
      "execution_count": null,
      "outputs": []
    },
    {
      "cell_type": "code",
      "metadata": {
        "id": "4XVNQ3ul4RRH"
      },
      "source": [
        "def plot_images_from_dir(path):\n",
        "    \"\"\" it takes a path and return the plot fo each image\"\"\"\n",
        "    images_classes = []\n",
        "    for cls in os.listdir(path): # get all the classes in for each folder\n",
        "         if cls != '.DS_Store':\n",
        "            images_classes.append(cls)\n",
        "    for i in images_classes: # loop over each class\n",
        "        new_images = []\n",
        "        my_folder = os.path.join(path,i)\n",
        "        for file in os.listdir(os.path.join(path,i)):\n",
        "            if file != '.DS_Store' and file != '.ipynb_checkpoints':\n",
        "                new_images.append(cv2.imread(os.path.join(my_folder,file))) # convert the path into an array\n",
        "        plt.figure(figsize=(50,50))\n",
        "        columns = 10\n",
        "        for i, image in enumerate(new_images):\n",
        "            plt.subplot(len(new_images) / columns + 1, columns, i + 1)\n",
        "            plt.imshow(image)\n",
        "            plt.show()"
      ],
      "execution_count": null,
      "outputs": []
    },
    {
      "cell_type": "code",
      "metadata": {
        "id": "dCMoCbwH4RRK"
      },
      "source": [
        "# folder = \"/Users/cristinamulas/Desktop/transfer_learning_keras/data/val\"\n",
        "\n",
        "# plot_images_from_dir(folder)"
      ],
      "execution_count": null,
      "outputs": []
    },
    {
      "cell_type": "code",
      "metadata": {
        "id": "vQm8UcH55sG5",
        "outputId": "e9846bfc-fbb5-4919-c65e-2328db638619",
        "colab": {
          "base_uri": "https://localhost:8080/",
          "height": 34
        }
      },
      "source": [
        "os.getcwd()\n",
        "os.chdir('/content/drive/My Drive/transfer_learning_keras/data/')\n",
        "os.getcwd()\n"
      ],
      "execution_count": null,
      "outputs": [
        {
          "output_type": "execute_result",
          "data": {
            "application/vnd.google.colaboratory.intrinsic+json": {
              "type": "string"
            },
            "text/plain": [
              "'/content/drive/My Drive/transfer_learning_keras/data'"
            ]
          },
          "metadata": {
            "tags": []
          },
          "execution_count": 8
        }
      ]
    },
    {
      "cell_type": "code",
      "metadata": {
        "id": "Rqf-Yj_J4RRM",
        "outputId": "47ec4ac8-5ad7-4b7d-ae65-0d1cfefa3607",
        "colab": {
          "base_uri": "https://localhost:8080/",
          "height": 34
        }
      },
      "source": [
        "base_path = os.getcwd() # get the working direntory\n",
        "train_data_path = os.path.join(base_path + '/train') # add the new folder\n",
        "train_data_path\n",
        "\n",
        "test_data_path = os.path.join(base_path + '/test') # add the new folder\n",
        "test_data_path\n",
        "\n",
        "val_data_path = os.path.join(base_path + '/val') # add the new folder\n",
        "val_data_path"
      ],
      "execution_count": null,
      "outputs": [
        {
          "output_type": "execute_result",
          "data": {
            "application/vnd.google.colaboratory.intrinsic+json": {
              "type": "string"
            },
            "text/plain": [
              "'/content/drive/My Drive/transfer_learning_keras/data/val'"
            ]
          },
          "metadata": {
            "tags": []
          },
          "execution_count": 9
        }
      ]
    },
    {
      "cell_type": "code",
      "metadata": {
        "id": "bfgUuntn6T4Q",
        "outputId": "2c7596db-68af-4f1b-9bef-ab10738d12c8",
        "colab": {
          "base_uri": "https://localhost:8080/"
        }
      },
      "source": [
        "from google.colab import drive\n",
        "drive.mount('/content/drive')"
      ],
      "execution_count": null,
      "outputs": [
        {
          "output_type": "stream",
          "text": [
            "Drive already mounted at /content/drive; to attempt to forcibly remount, call drive.mount(\"/content/drive\", force_remount=True).\n"
          ],
          "name": "stdout"
        }
      ]
    },
    {
      "cell_type": "code",
      "metadata": {
        "id": "VYYhFyR14RRP"
      },
      "source": [
        "train_generator = ImageDataGenerator(rescale=1./255,\n",
        "                                     rotation_range=4,\n",
        "                                   width_shift_range=0.1, \n",
        "                                   height_shift_range=0.1, \n",
        "                                   shear_range=0.3, \n",
        "                                   zoom_range=0.1, \n",
        "                                   horizontal_flip=True)\n",
        "test_generator = ImageDataGenerator(rescale=1./255)"
      ],
      "execution_count": null,
      "outputs": []
    },
    {
      "cell_type": "code",
      "metadata": {
        "id": "P9f440gv4RRR",
        "outputId": "0b1a5d4c-6735-4a5a-a207-2d7e11d794e7",
        "colab": {
          "base_uri": "https://localhost:8080/"
        }
      },
      "source": [
        "X_train_generator = train_generator.flow_from_directory(train_data_path, target_size=(32, 32), color_mode=\"rgb\", batch_size = 32)\n",
        "X_val_generator = test_generator.flow_from_directory(val_data_path, target_size=(32, 32), color_mode=\"rgb\" )\n",
        "X_test_generator = test_generator.flow_from_directory(test_data_path, target_size=(32, 32), color_mode=\"rgb\",  batch_size =32)"
      ],
      "execution_count": null,
      "outputs": [
        {
          "output_type": "stream",
          "text": [
            "Found 1356 images belonging to 3 classes.\n",
            "Found 291 images belonging to 3 classes.\n",
            "Found 39 images belonging to 3 classes.\n"
          ],
          "name": "stdout"
        }
      ]
    },
    {
      "cell_type": "code",
      "metadata": {
        "id": "eOpEoK9T4RRT",
        "outputId": "f205fea7-88c5-475e-a683-430181d09da4"
      },
      "source": [
        "os.listdir('/Users/cristinamulas/Desktop/transfer_learning_keras/data/val')"
      ],
      "execution_count": null,
      "outputs": [
        {
          "output_type": "execute_result",
          "data": {
            "text/plain": [
              "['.DS_Store', 'metal', 'cardboard', '.ipynb_checkpoints', 'plastic']"
            ]
          },
          "metadata": {
            "tags": []
          },
          "execution_count": 4
        }
      ]
    },
    {
      "cell_type": "code",
      "metadata": {
        "id": "mlKsw8OE4RRY",
        "outputId": "666c8b4c-0717-4042-841f-d49e507caadd"
      },
      "source": [
        ""
      ],
      "execution_count": null,
      "outputs": [
        {
          "output_type": "execute_result",
          "data": {
            "text/plain": [
              "<keras.preprocessing.image.DirectoryIterator at 0x106b85bd0>"
            ]
          },
          "metadata": {
            "tags": []
          },
          "execution_count": 10
        }
      ]
    },
    {
      "cell_type": "code",
      "metadata": {
        "id": "QxgQTvfE4RRa"
      },
      "source": [
        ""
      ],
      "execution_count": null,
      "outputs": []
    }
  ]
}