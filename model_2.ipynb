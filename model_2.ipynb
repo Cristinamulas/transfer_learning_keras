{
  "nbformat": 4,
  "nbformat_minor": 0,
  "metadata": {
    "kernelspec": {
      "display_name": "Python 3",
      "language": "python",
      "name": "python3"
    },
    "language_info": {
      "codemirror_mode": {
        "name": "ipython",
        "version": 3
      },
      "file_extension": ".py",
      "mimetype": "text/x-python",
      "name": "python",
      "nbconvert_exporter": "python",
      "pygments_lexer": "ipython3",
      "version": "3.7.7"
    },
    "colab": {
      "name": "model_2.ipynb",
      "provenance": [],
      "collapsed_sections": [],
      "include_colab_link": true
    },
    "accelerator": "GPU"
  },
  "cells": [
    {
      "cell_type": "markdown",
      "metadata": {
        "id": "view-in-github",
        "colab_type": "text"
      },
      "source": [
        "<a href=\"https://colab.research.google.com/github/Cristinamulas/transfer_learning_keras/blob/main/model_2.ipynb\" target=\"_parent\"><img src=\"https://colab.research.google.com/assets/colab-badge.svg\" alt=\"Open In Colab\"/></a>"
      ]
    },
    {
      "cell_type": "code",
      "metadata": {
        "id": "MkHalM8H4RQ_"
      },
      "source": [
        "import tensorflow as tf\n",
        "import os\n",
        "import matplotlib.pyplot as plt\n",
        "import matplotlib.image as mpimg\n",
        "%matplotlib inline\n",
        "import cv2\n",
        "\n",
        "from keras.preprocessing.image import ImageDataGenerator\n",
        "from keras.applications import VGG16,ResNet50\n",
        "\n",
        "'Import the datagenerator to augment images'\n",
        "from keras.preprocessing.image import ImageDataGenerator\n",
        "\n",
        "'''Import the optimizers and leanring rate annealer (which will reduce the learning rate once a particular metric we choose(in this case validation error) \n",
        "does not reduce after a user defined number of epochs)'''\n",
        "from keras.optimizers import SGD,Adam\n",
        "from keras.callbacks import ReduceLROnPlateau\n",
        "\n",
        "'Lastly import the final layers that will be added on top of the base model'\n",
        "from keras.layers import Flatten,Dense,BatchNormalization,Activation,Dropout\n",
        "from keras.models import Sequential\n",
        "\n",
        "import datetime\n",
        "import keras"
      ],
      "execution_count": 29,
      "outputs": []
    },
    {
      "cell_type": "code",
      "metadata": {
        "id": "4XVNQ3ul4RRH"
      },
      "source": [
        "def plot_images_from_dir(path):\n",
        "    \"\"\" it takes a path and return the plot fo each image\"\"\"\n",
        "    images_classes = []\n",
        "    for cls in os.listdir(path): # get all the classes in for each folder\n",
        "         if cls != '.DS_Store':\n",
        "            images_classes.append(cls)\n",
        "    for i in images_classes: # loop over each class\n",
        "        new_images = []\n",
        "        my_folder = os.path.join(path,i)\n",
        "        for file in os.listdir(os.path.join(path,i)):\n",
        "            if file != '.DS_Store' and file != '.ipynb_checkpoints':\n",
        "                new_images.append(cv2.imread(os.path.join(my_folder,file))) # convert the path into an array\n",
        "        plt.figure(figsize=(50,50))\n",
        "        columns = 10\n",
        "        for i, image in enumerate(new_images):\n",
        "            plt.subplot(len(new_images) / columns + 1, columns, i + 1)\n",
        "            plt.imshow(image)\n",
        "            plt.show()"
      ],
      "execution_count": null,
      "outputs": []
    },
    {
      "cell_type": "code",
      "metadata": {
        "id": "dCMoCbwH4RRK"
      },
      "source": [
        "# folder = \"/Users/cristinamulas/Desktop/transfer_learning_keras/data/val\"\n",
        "\n",
        "# plot_images_from_dir(folder)"
      ],
      "execution_count": null,
      "outputs": []
    },
    {
      "cell_type": "code",
      "metadata": {
        "id": "bfgUuntn6T4Q",
        "outputId": "14a59543-a5b2-42a3-8867-17a8a716b52c",
        "colab": {
          "base_uri": "https://localhost:8080/"
        }
      },
      "source": [
        "from google.colab import drive\n",
        "drive.mount('/content/drive')"
      ],
      "execution_count": 4,
      "outputs": [
        {
          "output_type": "stream",
          "text": [
            "Mounted at /content/drive\n"
          ],
          "name": "stdout"
        }
      ]
    },
    {
      "cell_type": "code",
      "metadata": {
        "id": "vQm8UcH55sG5",
        "outputId": "142a020d-1e48-4f19-b2d0-cfe18aca231c",
        "colab": {
          "base_uri": "https://localhost:8080/",
          "height": 34
        }
      },
      "source": [
        "os.getcwd()\n",
        "os.chdir('/content/drive/My Drive/transfer_learning_keras/data/')\n",
        "os.getcwd()\n"
      ],
      "execution_count": 5,
      "outputs": [
        {
          "output_type": "execute_result",
          "data": {
            "application/vnd.google.colaboratory.intrinsic+json": {
              "type": "string"
            },
            "text/plain": [
              "'/content/drive/My Drive/transfer_learning_keras/data'"
            ]
          },
          "metadata": {
            "tags": []
          },
          "execution_count": 5
        }
      ]
    },
    {
      "cell_type": "code",
      "metadata": {
        "id": "Rqf-Yj_J4RRM",
        "outputId": "05d78384-c7a6-4b6f-ff21-188e11d75f23",
        "colab": {
          "base_uri": "https://localhost:8080/",
          "height": 34
        }
      },
      "source": [
        "base_path = os.getcwd() # get the working direntory\n",
        "train_data_path = os.path.join(base_path + '/train') # add the new folder\n",
        "train_data_path\n",
        "\n",
        "test_data_path = os.path.join(base_path + '/test') # add the new folder\n",
        "test_data_path\n",
        "\n",
        "val_data_path = os.path.join(base_path + '/val') # add the new folder\n",
        "val_data_path"
      ],
      "execution_count": 6,
      "outputs": [
        {
          "output_type": "execute_result",
          "data": {
            "application/vnd.google.colaboratory.intrinsic+json": {
              "type": "string"
            },
            "text/plain": [
              "'/content/drive/My Drive/transfer_learning_keras/data/val'"
            ]
          },
          "metadata": {
            "tags": []
          },
          "execution_count": 6
        }
      ]
    },
    {
      "cell_type": "code",
      "metadata": {
        "id": "VYYhFyR14RRP"
      },
      "source": [
        "train_generator = ImageDataGenerator(rescale=1./255,\n",
        "                                     rotation_range=4,\n",
        "                                   width_shift_range=0.1, \n",
        "                                   height_shift_range=0.1, \n",
        "                                   shear_range=0.3, \n",
        "                                   zoom_range=0.1, \n",
        "                                   horizontal_flip=True)\n",
        "test_generator = ImageDataGenerator(rescale=1./255)"
      ],
      "execution_count": 7,
      "outputs": []
    },
    {
      "cell_type": "code",
      "metadata": {
        "id": "P9f440gv4RRR",
        "outputId": "f148e066-19e2-4203-e71a-594d7a52f882",
        "colab": {
          "base_uri": "https://localhost:8080/"
        }
      },
      "source": [
        "X_train_generator = train_generator.flow_from_directory(train_data_path, target_size=(32, 32), color_mode=\"rgb\", batch_size = 32)\n",
        "X_val_generator = test_generator.flow_from_directory(val_data_path, target_size=(32, 32), color_mode=\"rgb\" )\n",
        "X_test_generator = test_generator.flow_from_directory(test_data_path, target_size=(32, 32), color_mode=\"rgb\",  batch_size =32)"
      ],
      "execution_count": 8,
      "outputs": [
        {
          "output_type": "stream",
          "text": [
            "Found 1356 images belonging to 3 classes.\n",
            "Found 291 images belonging to 3 classes.\n",
            "Found 39 images belonging to 3 classes.\n"
          ],
          "name": "stdout"
        }
      ]
    },
    {
      "cell_type": "code",
      "metadata": {
        "id": "eOpEoK9T4RRT",
        "outputId": "43ad57d9-8bcd-44e2-ccc3-ed365efd5644",
        "colab": {
          "base_uri": "https://localhost:8080/",
          "height": 165
        }
      },
      "source": [
        ""
      ],
      "execution_count": 1,
      "outputs": [
        {
          "output_type": "error",
          "ename": "NameError",
          "evalue": "ignored",
          "traceback": [
            "\u001b[0;31m---------------------------------------------------------------------------\u001b[0m",
            "\u001b[0;31mNameError\u001b[0m                                 Traceback (most recent call last)",
            "\u001b[0;32m<ipython-input-1-610c40782fcc>\u001b[0m in \u001b[0;36m<module>\u001b[0;34m()\u001b[0m\n\u001b[0;32m----> 1\u001b[0;31m \u001b[0mos\u001b[0m\u001b[0;34m.\u001b[0m\u001b[0mlistdir\u001b[0m\u001b[0;34m(\u001b[0m\u001b[0;34m'/Users/cristinamulas/Desktop/transfer_learning_keras/data/val'\u001b[0m\u001b[0;34m)\u001b[0m\u001b[0;34m\u001b[0m\u001b[0;34m\u001b[0m\u001b[0m\n\u001b[0m",
            "\u001b[0;31mNameError\u001b[0m: name 'os' is not defined"
          ]
        }
      ]
    },
    {
      "cell_type": "markdown",
      "metadata": {
        "id": "w8_ntvwh7qB2"
      },
      "source": [
        "### Import VGG16 as a base model"
      ]
    },
    {
      "cell_type": "code",
      "metadata": {
        "id": "mlKsw8OE4RRY",
        "outputId": "9e572442-35f9-4551-bbe8-2c926ed201e8",
        "colab": {
          "base_uri": "https://localhost:8080/"
        }
      },
      "source": [
        "base_model_1 = VGG16(include_top=False,weights='imagenet',input_shape=(32,32,3))"
      ],
      "execution_count": 9,
      "outputs": [
        {
          "output_type": "stream",
          "text": [
            "Downloading data from https://storage.googleapis.com/tensorflow/keras-applications/vgg16/vgg16_weights_tf_dim_ordering_tf_kernels_notop.h5\n",
            "58892288/58889256 [==============================] - 0s 0us/step\n"
          ],
          "name": "stdout"
        }
      ]
    },
    {
      "cell_type": "code",
      "metadata": {
        "id": "0HK5dQUA8QPm",
        "outputId": "0ba115ec-c3c7-4ca8-fc5c-5fda5ee96cb7",
        "colab": {
          "base_uri": "https://localhost:8080/"
        }
      },
      "source": [
        "base_model_1.summary()"
      ],
      "execution_count": 10,
      "outputs": [
        {
          "output_type": "stream",
          "text": [
            "Model: \"vgg16\"\n",
            "_________________________________________________________________\n",
            "Layer (type)                 Output Shape              Param #   \n",
            "=================================================================\n",
            "input_1 (InputLayer)         [(None, 32, 32, 3)]       0         \n",
            "_________________________________________________________________\n",
            "block1_conv1 (Conv2D)        (None, 32, 32, 64)        1792      \n",
            "_________________________________________________________________\n",
            "block1_conv2 (Conv2D)        (None, 32, 32, 64)        36928     \n",
            "_________________________________________________________________\n",
            "block1_pool (MaxPooling2D)   (None, 16, 16, 64)        0         \n",
            "_________________________________________________________________\n",
            "block2_conv1 (Conv2D)        (None, 16, 16, 128)       73856     \n",
            "_________________________________________________________________\n",
            "block2_conv2 (Conv2D)        (None, 16, 16, 128)       147584    \n",
            "_________________________________________________________________\n",
            "block2_pool (MaxPooling2D)   (None, 8, 8, 128)         0         \n",
            "_________________________________________________________________\n",
            "block3_conv1 (Conv2D)        (None, 8, 8, 256)         295168    \n",
            "_________________________________________________________________\n",
            "block3_conv2 (Conv2D)        (None, 8, 8, 256)         590080    \n",
            "_________________________________________________________________\n",
            "block3_conv3 (Conv2D)        (None, 8, 8, 256)         590080    \n",
            "_________________________________________________________________\n",
            "block3_pool (MaxPooling2D)   (None, 4, 4, 256)         0         \n",
            "_________________________________________________________________\n",
            "block4_conv1 (Conv2D)        (None, 4, 4, 512)         1180160   \n",
            "_________________________________________________________________\n",
            "block4_conv2 (Conv2D)        (None, 4, 4, 512)         2359808   \n",
            "_________________________________________________________________\n",
            "block4_conv3 (Conv2D)        (None, 4, 4, 512)         2359808   \n",
            "_________________________________________________________________\n",
            "block4_pool (MaxPooling2D)   (None, 2, 2, 512)         0         \n",
            "_________________________________________________________________\n",
            "block5_conv1 (Conv2D)        (None, 2, 2, 512)         2359808   \n",
            "_________________________________________________________________\n",
            "block5_conv2 (Conv2D)        (None, 2, 2, 512)         2359808   \n",
            "_________________________________________________________________\n",
            "block5_conv3 (Conv2D)        (None, 2, 2, 512)         2359808   \n",
            "_________________________________________________________________\n",
            "block5_pool (MaxPooling2D)   (None, 1, 1, 512)         0         \n",
            "=================================================================\n",
            "Total params: 14,714,688\n",
            "Trainable params: 14,714,688\n",
            "Non-trainable params: 0\n",
            "_________________________________________________________________\n"
          ],
          "name": "stdout"
        }
      ]
    },
    {
      "cell_type": "code",
      "metadata": {
        "id": "QxgQTvfE4RRa"
      },
      "source": [
        "\n",
        "def model_generator(model, layers=[]):\n",
        "    model = model\n",
        "    for layer in layers:\n",
        "        model.add(layer)\n",
        "    model.summary()\n",
        "    return model"
      ],
      "execution_count": 13,
      "outputs": []
    },
    {
      "cell_type": "code",
      "metadata": {
        "id": "CeElJCkQ8QI3",
        "outputId": "5b04e5c4-d27a-4a02-cc0b-b659497cad7e",
        "colab": {
          "base_uri": "https://localhost:8080/"
        }
      },
      "source": [
        "layers = base_model_1.layers + [Flatten(), Dense(128,activation=('relu'),input_dim=512),Dropout(.2), Dense(3, activation='softmax')]\n",
        "# compile_kwargs = {\"loss\":\"categorical_crossentropy\", \"optimizer\":Adam(learning_rate=0.00005), \"metrics\":['accuracy']}\n",
        "modelVGG16 = model_generator(Sequential(), layers)"
      ],
      "execution_count": 43,
      "outputs": [
        {
          "output_type": "stream",
          "text": [
            "Model: \"sequential_1\"\n",
            "_________________________________________________________________\n",
            "Layer (type)                 Output Shape              Param #   \n",
            "=================================================================\n",
            "block1_conv1 (Conv2D)        (None, 32, 32, 64)        1792      \n",
            "_________________________________________________________________\n",
            "block1_conv2 (Conv2D)        (None, 32, 32, 64)        36928     \n",
            "_________________________________________________________________\n",
            "block1_pool (MaxPooling2D)   (None, 16, 16, 64)        0         \n",
            "_________________________________________________________________\n",
            "block2_conv1 (Conv2D)        (None, 16, 16, 128)       73856     \n",
            "_________________________________________________________________\n",
            "block2_conv2 (Conv2D)        (None, 16, 16, 128)       147584    \n",
            "_________________________________________________________________\n",
            "block2_pool (MaxPooling2D)   (None, 8, 8, 128)         0         \n",
            "_________________________________________________________________\n",
            "block3_conv1 (Conv2D)        (None, 8, 8, 256)         295168    \n",
            "_________________________________________________________________\n",
            "block3_conv2 (Conv2D)        (None, 8, 8, 256)         590080    \n",
            "_________________________________________________________________\n",
            "block3_conv3 (Conv2D)        (None, 8, 8, 256)         590080    \n",
            "_________________________________________________________________\n",
            "block3_pool (MaxPooling2D)   (None, 4, 4, 256)         0         \n",
            "_________________________________________________________________\n",
            "block4_conv1 (Conv2D)        (None, 4, 4, 512)         1180160   \n",
            "_________________________________________________________________\n",
            "block4_conv2 (Conv2D)        (None, 4, 4, 512)         2359808   \n",
            "_________________________________________________________________\n",
            "block4_conv3 (Conv2D)        (None, 4, 4, 512)         2359808   \n",
            "_________________________________________________________________\n",
            "block4_pool (MaxPooling2D)   (None, 2, 2, 512)         0         \n",
            "_________________________________________________________________\n",
            "block5_conv1 (Conv2D)        (None, 2, 2, 512)         2359808   \n",
            "_________________________________________________________________\n",
            "block5_conv2 (Conv2D)        (None, 2, 2, 512)         2359808   \n",
            "_________________________________________________________________\n",
            "block5_conv3 (Conv2D)        (None, 2, 2, 512)         2359808   \n",
            "_________________________________________________________________\n",
            "block5_pool (MaxPooling2D)   (None, 1, 1, 512)         0         \n",
            "_________________________________________________________________\n",
            "flatten_3 (Flatten)          (None, 512)               0         \n",
            "_________________________________________________________________\n",
            "dense_6 (Dense)              (None, 128)               65664     \n",
            "_________________________________________________________________\n",
            "dropout (Dropout)            (None, 128)               0         \n",
            "_________________________________________________________________\n",
            "dense_7 (Dense)              (None, 3)                 387       \n",
            "=================================================================\n",
            "Total params: 14,780,739\n",
            "Trainable params: 14,780,739\n",
            "Non-trainable params: 0\n",
            "_________________________________________________________________\n"
          ],
          "name": "stdout"
        }
      ]
    },
    {
      "cell_type": "code",
      "metadata": {
        "id": "66dyLL1h8QLn"
      },
      "source": [
        ""
      ],
      "execution_count": null,
      "outputs": []
    },
    {
      "cell_type": "code",
      "metadata": {
        "id": "2Cle5uEQ8mn5"
      },
      "source": [
        "learn_rate=.001\n",
        "\n",
        "sgd=SGD(lr=learn_rate,momentum=.9,nesterov=False)\n",
        "adam=Adam(lr=learn_rate, beta_1=0.9, beta_2=0.999, epsilon=None, decay=0.0, amsgrad=False)"
      ],
      "execution_count": 46,
      "outputs": []
    },
    {
      "cell_type": "code",
      "metadata": {
        "id": "s77AXt0W8QN2"
      },
      "source": [
        "compile_kwargs = {\"loss\":\"categorical_crossentropy\", \"optimizer\":adam, \"metrics\":['accuracy']}\n"
      ],
      "execution_count": 47,
      "outputs": []
    },
    {
      "cell_type": "code",
      "metadata": {
        "id": "9bLjIYLA8QRJ"
      },
      "source": [
        "  def fit(model,  compile_kwargs={}):\n",
        "        model.compile(**compile_kwargs)\n",
        "        log_dir = log_dir = \"logs/fit/\" + datetime.datetime.now().strftime(\"%Y%m%d-%H%M%S\")\n",
        "\n",
        "        tbCallBack = keras.callbacks.TensorBoard(log_dir=log_dir, histogram_freq=0, write_graph=True, write_images=True)\n",
        "        return model.fit(X_train_generator, epochs=15,  validation_data=X_val_generator,callbacks=[tbCallBack])\n",
        "        "
      ],
      "execution_count": 48,
      "outputs": []
    },
    {
      "cell_type": "code",
      "metadata": {
        "id": "UueNLmrlAAgA",
        "outputId": "82d2feb6-bcb9-42d9-e5ea-dfd2221764f6",
        "colab": {
          "base_uri": "https://localhost:8080/"
        }
      },
      "source": [
        "history = fit(modelc3, compile_kwargs)"
      ],
      "execution_count": 49,
      "outputs": [
        {
          "output_type": "stream",
          "text": [
            "Epoch 1/15\n",
            " 2/43 [>.............................] - ETA: 5s - loss: 1.0318 - accuracy: 0.3906WARNING:tensorflow:Callbacks method `on_train_batch_end` is slow compared to the batch time (batch time: 0.0932s vs `on_train_batch_end` time: 0.1598s). Check your callbacks.\n",
            "43/43 [==============================] - 6s 142ms/step - loss: 0.9136 - accuracy: 0.5354 - val_loss: 1.4484 - val_accuracy: 0.3230\n",
            "Epoch 2/15\n",
            "43/43 [==============================] - 6s 133ms/step - loss: 0.8617 - accuracy: 0.6077 - val_loss: 1.7379 - val_accuracy: 0.3058\n",
            "Epoch 3/15\n",
            "43/43 [==============================] - 6s 134ms/step - loss: 0.8302 - accuracy: 0.6291 - val_loss: 1.3434 - val_accuracy: 0.3299\n",
            "Epoch 4/15\n",
            "43/43 [==============================] - 6s 133ms/step - loss: 0.8137 - accuracy: 0.6423 - val_loss: 1.6631 - val_accuracy: 0.3058\n",
            "Epoch 5/15\n",
            "43/43 [==============================] - 6s 139ms/step - loss: 0.7732 - accuracy: 0.6689 - val_loss: 1.5790 - val_accuracy: 0.2818\n",
            "Epoch 6/15\n",
            "43/43 [==============================] - 6s 142ms/step - loss: 0.7750 - accuracy: 0.6829 - val_loss: 1.3933 - val_accuracy: 0.3162\n",
            "Epoch 7/15\n",
            "43/43 [==============================] - 6s 134ms/step - loss: 0.7436 - accuracy: 0.6881 - val_loss: 1.3958 - val_accuracy: 0.3368\n",
            "Epoch 8/15\n",
            "43/43 [==============================] - 6s 134ms/step - loss: 0.7479 - accuracy: 0.6976 - val_loss: 1.5606 - val_accuracy: 0.2921\n",
            "Epoch 9/15\n",
            "43/43 [==============================] - 6s 133ms/step - loss: 0.7688 - accuracy: 0.6755 - val_loss: 1.3090 - val_accuracy: 0.3368\n",
            "Epoch 10/15\n",
            "43/43 [==============================] - 6s 134ms/step - loss: 0.7209 - accuracy: 0.7146 - val_loss: 1.5163 - val_accuracy: 0.3368\n",
            "Epoch 11/15\n",
            "43/43 [==============================] - 6s 132ms/step - loss: 0.7028 - accuracy: 0.7198 - val_loss: 1.2492 - val_accuracy: 0.3265\n",
            "Epoch 12/15\n",
            "43/43 [==============================] - 6s 134ms/step - loss: 0.6787 - accuracy: 0.7257 - val_loss: 1.4354 - val_accuracy: 0.3196\n",
            "Epoch 13/15\n",
            "43/43 [==============================] - 6s 133ms/step - loss: 0.6548 - accuracy: 0.7434 - val_loss: 1.4533 - val_accuracy: 0.2852\n",
            "Epoch 14/15\n",
            "43/43 [==============================] - 6s 136ms/step - loss: 0.6583 - accuracy: 0.7330 - val_loss: 1.4274 - val_accuracy: 0.3162\n",
            "Epoch 15/15\n",
            "43/43 [==============================] - 6s 135ms/step - loss: 0.6726 - accuracy: 0.7176 - val_loss: 1.2059 - val_accuracy: 0.3368\n"
          ],
          "name": "stdout"
        }
      ]
    },
    {
      "cell_type": "code",
      "metadata": {
        "id": "Nue-G0sKAqUS",
        "outputId": "81ca14c4-4d76-411a-b833-27e6301c0b9c",
        "colab": {
          "base_uri": "https://localhost:8080/",
          "height": 573
        }
      },
      "source": [
        "\n",
        "plt.plot(history.history['accuracy'])\n",
        "plt.plot(history.history['val_accuracy'])\n",
        "plt.title('model accuracy')\n",
        "plt.ylabel('accuracy')\n",
        "plt.xlabel('epoch')\n",
        "plt.legend(['train', 'validation'], loc='upper left')\n",
        "plt.show()\n",
        "# \"Loss\"\n",
        "plt.plot(history.history['loss'])\n",
        "plt.plot(history.history['val_loss'])\n",
        "plt.title('model loss')\n",
        "plt.ylabel('loss')\n",
        "plt.xlabel('epoch')\n",
        "plt.legend(['train', 'validation'], loc='upper left')\n",
        "plt.show()"
      ],
      "execution_count": 51,
      "outputs": [
        {
          "output_type": "display_data",
          "data": {
            "image/png": "[encoded data removed]",
            "text/plain": [
              "<Figure size 432x288 with 1 Axes>"
            ]
          },
          "metadata": {
            "tags": [],
            "needs_background": "light"
          }
        },
        {
          "output_type": "display_data",
          "data": {
            "image/png": "[encoded data removed]",
            "text/plain": [
              "<Figure size 432x288 with 1 Axes>"
            ]
          },
          "metadata": {
            "tags": [],
            "needs_background": "light"
          }
        }
      ]
    },
    {
      "cell_type": "code",
      "metadata": {
        "id": "vkmfpggbEAdk"
      },
      "source": [
        "os.getcwd()\n",
        "os.chdir('/content/drive/My Drive/transfer_learning_keras/data/val/plastic')"
      ],
      "execution_count": 58,
      "outputs": []
    },
    {
      "cell_type": "code",
      "metadata": {
        "id": "6sWlI_E3Ew8f",
        "outputId": "f5159efe-ed54-41b4-98eb-e1a3b4002f8a",
        "colab": {
          "base_uri": "https://localhost:8080/"
        }
      },
      "source": [
        "len(os.listdir())"
      ],
      "execution_count": 59,
      "outputs": [
        {
          "output_type": "execute_result",
          "data": {
            "text/plain": [
              "25"
            ]
          },
          "metadata": {
            "tags": []
          },
          "execution_count": 59
        }
      ]
    },
    {
      "cell_type": "code",
      "metadata": {
        "id": "Q4ZHln8bE8gr"
      },
      "source": [
        ""
      ],
      "execution_count": null,
      "outputs": []
    }
  ]
}