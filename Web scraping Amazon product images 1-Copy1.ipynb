{
 "cells": [
  {
   "cell_type": "markdown",
   "metadata": {},
   "source": [
    "- Crear env"
   ]
  },
  {
   "cell_type": "code",
   "execution_count": 37,
   "metadata": {},
   "outputs": [],
   "source": [
    "from selenium import webdriver\n",
    "from bs4 import BeautifulSoup\n",
    "from selenium.webdriver.common.by import By\n",
    "from selenium.webdriver.support.ui import WebDriverWait\n",
    "from selenium.webdriver.support import expected_conditions as EC\n",
    "from selenium.common.exceptions import TimeoutException\n",
    "import time\n",
    "import os\n",
    "from urllib.request import urlopen\n",
    "import shutil\n",
    "import random\n",
    "\n"
   ]
  },
  {
   "cell_type": "code",
   "execution_count": 38,
   "metadata": {},
   "outputs": [
    {
     "data": {
      "text/plain": [
       "'/Users/cristinamulas/Desktop/transfer_learning_keras/data'"
      ]
     },
     "execution_count": 38,
     "metadata": {},
     "output_type": "execute_result"
    }
   ],
   "source": [
    "os.getcwd() # para correr el scrip tengo que estar en este folder"
   ]
  },
  {
   "cell_type": "code",
   "execution_count": 39,
   "metadata": {},
   "outputs": [
    {
     "data": {
      "text/plain": [
       "'/Users/cristinamulas/Desktop/transfer_learning_keras'"
      ]
     },
     "execution_count": 39,
     "metadata": {},
     "output_type": "execute_result"
    }
   ],
   "source": [
    "### Corre esto primero que la function\n",
    "os.getcwd()\n",
    "os.chdir('/Users/cristinamulas/Desktop/transfer_learning_keras')\n",
    "os.getcwd()\n",
    "\n"
   ]
  },
  {
   "cell_type": "code",
   "execution_count": 67,
   "metadata": {},
   "outputs": [
    {
     "name": "stdout",
     "output_type": "stream",
     "text": [
      "[['https://m.media-amazon.com/images/I/71pokGgV2XL._AC_UL320_.jpg', 'https://m.media-amazon.com/images/I/91m37z3knzL._AC_UL320_.jpg', 'https://m.media-amazon.com/images/I/61jj-knayWL._AC_UL320_.jpg', 'https://m.media-amazon.com/images/I/71UCU07LGxL._AC_UL320_.jpg', 'https://m.media-amazon.com/images/I/81IJitykB3L._AC_UL320_.jpg', 'https://m.media-amazon.com/images/I/71jvnaMaPZL._AC_UL320_.jpg', 'https://m.media-amazon.com/images/I/51Ah0SAhfVL._AC_UL320_.jpg', 'https://m.media-amazon.com/images/I/81GC22+G0jL._AC_UL320_.jpg', 'https://m.media-amazon.com/images/I/61uMUpRaJ-L._AC_UL320_.jpg', 'https://m.media-amazon.com/images/I/8169o+ZkZ6L._AC_UL320_.jpg', 'https://m.media-amazon.com/images/I/7169KqBJYIL._AC_UL320_.jpg', 'https://m.media-amazon.com/images/I/71hEBbp9P0L._AC_UL320_.jpg', 'https://m.media-amazon.com/images/I/712pxs3yKDL._AC_UL320_.jpg', 'https://m.media-amazon.com/images/I/61NfDk64WgL._AC_UL320_.jpg', 'https://m.media-amazon.com/images/I/81mGIX3VLNL._AC_UL320_.jpg', 'https://m.media-amazon.com/images/I/71DskoxtRML._AC_UL320_.jpg', 'https://m.media-amazon.com/images/I/71zA0LsYWZL._AC_UL320_.jpg', 'https://m.media-amazon.com/images/I/81vSyLDvCPL._AC_UL320_.jpg', 'https://m.media-amazon.com/images/I/71SE-uc9rGL._AC_UL320_.jpg', 'https://m.media-amazon.com/images/I/71p4fdMt8XL._AC_UL320_.jpg', 'https://m.media-amazon.com/images/I/71+wzjyRqOL._AC_UL320_.jpg', 'https://m.media-amazon.com/images/I/61KieJ8+CLL._AC_UL320_.jpg', 'https://m.media-amazon.com/images/I/71WcvFuD3FL._AC_UL320_.jpg', 'https://m.media-amazon.com/images/I/71y3GPztXGL._AC_UL320_.jpg'], ['https://m.media-amazon.com/images/I/71Ga-QEjJfL._AC_UL320_.jpg', 'https://m.media-amazon.com/images/I/61jyxzUwglL._AC_UL320_.jpg', 'https://m.media-amazon.com/images/I/71uk5ziNdkL._AC_UL320_.jpg', 'https://m.media-amazon.com/images/I/81jcG86NB6L._AC_UL320_.jpg', 'https://m.media-amazon.com/images/I/81JKjCyUiiL._AC_UL320_.jpg', 'https://m.media-amazon.com/images/I/71GxKT6E7aL._AC_UL320_.jpg', 'https://m.media-amazon.com/images/I/61fE7t4-FHL._AC_UL320_.jpg', 'https://m.media-amazon.com/images/I/519bpKqcn4L._AC_UL320_.jpg', 'https://m.media-amazon.com/images/I/81OrScKuafL._AC_UL320_.jpg', 'https://m.media-amazon.com/images/I/8141YQIS+BL._AC_UL320_.jpg', 'https://m.media-amazon.com/images/I/81-bhllJR7L._AC_UL320_.jpg', 'https://m.media-amazon.com/images/I/81gJKs68jGL._AC_UL320_.jpg', 'https://m.media-amazon.com/images/I/717lT4DZwqL._AC_UL320_.jpg', 'https://m.media-amazon.com/images/I/615FVXw51LL._AC_UL320_.jpg', 'https://m.media-amazon.com/images/I/51BlCsQYgPL._AC_UL320_.jpg', 'https://m.media-amazon.com/images/I/71Kpop7LkgL._AC_UL320_.jpg', 'https://m.media-amazon.com/images/I/61FsiXAybSL._AC_UL320_.jpg', 'https://m.media-amazon.com/images/I/41xeR2OXr5L._AC_UL320_.jpg', 'https://m.media-amazon.com/images/I/81dk8VxKodL._AC_UL320_.jpg', 'https://m.media-amazon.com/images/I/71d-D+1JY8L._AC_UL320_.jpg', 'https://m.media-amazon.com/images/I/71QB7Vblh8L._AC_UL320_.jpg', 'https://m.media-amazon.com/images/I/618LBk4swRL._AC_UL320_.jpg', 'https://m.media-amazon.com/images/I/61hC-nZoRIL._AC_UL320_.jpg', 'https://m.media-amazon.com/images/I/71BltEnHbIL._AC_UL320_.jpg'], ['https://m.media-amazon.com/images/I/71QOAhhX0aL._AC_UL320_.jpg', 'https://m.media-amazon.com/images/I/71AKLaKIqIL._AC_UL320_.jpg', 'https://m.media-amazon.com/images/I/714WVxT2EyL._AC_UL320_.jpg', 'https://m.media-amazon.com/images/I/71hUPm+py0L._AC_UL320_.jpg', 'https://m.media-amazon.com/images/I/71ovXFW-09L._AC_UL320_.jpg', 'https://m.media-amazon.com/images/I/71-UIBYRrjL._AC_UL320_.jpg', 'https://m.media-amazon.com/images/I/810YlkkgX9L._AC_UL320_.jpg', 'https://m.media-amazon.com/images/I/61Zyz33L5bL._AC_UL320_.jpg', 'https://m.media-amazon.com/images/I/71eHufezO3L._AC_UL320_.jpg', 'https://m.media-amazon.com/images/I/81kcN6I344L._AC_UL320_.jpg', 'https://m.media-amazon.com/images/I/71DZ9ROsA0L._AC_UL320_.jpg', 'https://m.media-amazon.com/images/I/71vtKaV5dsL._AC_UL320_.jpg', 'https://m.media-amazon.com/images/I/61+3jhZqCsL._AC_UL320_.jpg', 'https://m.media-amazon.com/images/I/71A3IQI8qXL._AC_UL320_.jpg', 'https://m.media-amazon.com/images/I/61Yc8IF+KlL._AC_UL320_.jpg', 'https://m.media-amazon.com/images/I/51aCWGSkJ7L._AC_UL320_.jpg', 'https://m.media-amazon.com/images/I/81uaoHacD4L._AC_UL320_.jpg', 'https://m.media-amazon.com/images/I/61HrzViiFOL._AC_UL320_.jpg', 'https://m.media-amazon.com/images/I/41RwmKZXYtL._AC_UL320_.jpg', 'https://m.media-amazon.com/images/I/71i4rcLDsYL._AC_UL320_.jpg', 'https://m.media-amazon.com/images/I/81ESLAmDojL._AC_UL320_.jpg', 'https://m.media-amazon.com/images/I/71mTpdthMcL._AC_UL320_.jpg', 'https://m.media-amazon.com/images/I/71u1rn+03+L._AC_UL320_.jpg', 'https://m.media-amazon.com/images/I/61phsk2PRSL._AC_UL320_.jpg']]\n"
     ]
    }
   ],
   "source": [
    "#  chromedriver = \"/Users/cristinamulas/Downloads/chromedriver\"\n",
    "# os.environ[\"webdriver.chrome.driver\"] = chromedriver\n",
    "# driver = webdriver.Chrome(chromedriver)\n",
    "# count = 1\n",
    "# search = ['milk']\n",
    "# new = []\n",
    "# for name in search:\n",
    "#     for page in range(1,4):\n",
    "#         url = f'https://www.amazon.com/s?k={name}&i=wholefoods&bbn=18473610011&page={page}'\n",
    "#         time.sleep(10)\n",
    "#         driver.get(url)\n",
    "#         driver.implicitly_wait(30)\n",
    "#         content = driver.page_source\n",
    "#         soup = BeautifulSoup(content, 'html.parser')\n",
    "#         block_images = soup.findAll('div', class_= \"a-section aok-relative s-image-square-aspect\")\n",
    "#         images_list = [ i.find('img').attrs['src'] for i in block_images]\n",
    "#         new.append(images_list)\n",
    "# print(new)\n",
    "#         count = 1 # start counting\n",
    "\n",
    "#         for image in new: # loop over the list\n",
    "\n",
    "#             file_name = name + str(count) +'.jpg' \n",
    "#             count += 1\n",
    "#             folder = os.path.join(os.getcwd(), 'data')\n",
    "\n",
    "#             #Create The folder according to search name\n",
    "#             if not os.path.exists(folder):\n",
    "#                 os.makedirs(folder)\n",
    "#             imageFile = open(folder + \"/\"+ file_name, 'wb')\n",
    "\n",
    "#             imageFile.write(urlopen(image).read()) #This will read the image file from the link and download it and save it in the folder mentioned all at the same time\n",
    "#             imageFile.close()"
   ]
  },
  {
   "cell_type": "code",
   "execution_count": 82,
   "metadata": {},
   "outputs": [],
   "source": [
    "count = 1 # start counting\n",
    "\n",
    "for list_images in new:\n",
    "    for image in list_images:# loop over the list\n",
    "\n",
    "        file_name = name + str(count) +'.jpg' \n",
    "        count += 1\n",
    "        folder = os.path.join(os.getcwd(), 'data')\n",
    "\n",
    "        #Create The folder according to search name\n",
    "        if not os.path.exists(folder):\n",
    "            os.makedirs(folder)\n",
    "        imageFile = open(folder + \"/\"+ file_name, 'wb')\n",
    "\n",
    "        imageFile.write(urlopen(image).read()) #This will read the image file from the link and download it and save it in the folder mentioned all at the same time\n",
    "        imageFile.close()\n"
   ]
  },
  {
   "cell_type": "code",
   "execution_count": 91,
   "metadata": {},
   "outputs": [],
   "source": [
    "# it need to test it mira el directory donde estas antes de correrlo ## eso esta mal\n",
    "\n",
    "def image_search (search_names, number_pages, folder_name):\n",
    "    \"\"\" Atr search_name  list of str\n",
    "            number_pages int\n",
    "            folder_name str\n",
    "    \"\"\"\n",
    "\n",
    "\n",
    "    chromedriver = \"/Users/cristinamulas/Downloads/chromedriver\"\n",
    "    os.environ[\"webdriver.chrome.driver\"] = chromedriver\n",
    "    driver = webdriver.Chrome(chromedriver)\n",
    "    count = 1\n",
    "    search = search_names\n",
    "    list_images = []\n",
    "    for name in search:\n",
    "        for page in range(1,number_pages):\n",
    "            url = f'https://www.amazon.com/s?k={name}&i=wholefoods&bbn=18473610011&page={page}'\n",
    "            time.sleep(10)\n",
    "            driver.get(url)\n",
    "            driver.implicitly_wait(30)\n",
    "            content = driver.page_source\n",
    "            soup = BeautifulSoup(content, 'html.parser')\n",
    "            block_images = soup.findAll('div', class_= \"a-section aok-relative s-image-square-aspect\")\n",
    "            images_block = [ i.find('img').attrs['src'] for i in block_images]\n",
    "            list_images.append(images_block)\n",
    "            count = 1 # start counting\n",
    "\n",
    "            for list_ in list_images:\n",
    "                for image in list_:# loop over the list\n",
    "\n",
    "                    file_name = name + str(count) +'.jpg' \n",
    "                    count += 1\n",
    "                    folder = os.path.join(os.getcwd(), folder_name)\n",
    "\n",
    "                    #Create The folder according to search name\n",
    "                    if not os.path.exists(folder):\n",
    "                        os.makedirs(folder)\n",
    "                    imageFile = open(folder + \"/\"+ file_name, 'wb')\n",
    "\n",
    "                    imageFile.write(urlopen(image).read()) #This will read the image file from the link and download it and save it in the folder mentioned all at the same time\n",
    "                    imageFile.close()"
   ]
  },
  {
   "cell_type": "code",
   "execution_count": 92,
   "metadata": {},
   "outputs": [],
   "source": [
    "image_search(['chips', 'cookies', 'wine'], 9, 'data') "
   ]
  },
  {
   "cell_type": "code",
   "execution_count": 29,
   "metadata": {},
   "outputs": [
    {
     "data": {
      "text/plain": [
       "'/Users/cristinamulas/Desktop/transfer_learning_keras'"
      ]
     },
     "execution_count": 29,
     "metadata": {},
     "output_type": "execute_result"
    }
   ],
   "source": [
    "# os.chdir(os.getcwd() + '/data')\n",
    "os.getcwd()"
   ]
  },
  {
   "cell_type": "code",
   "execution_count": 30,
   "metadata": {},
   "outputs": [],
   "source": [
    "def create_dirs(folders):\n",
    "    # change the current dir to data\n",
    "    os.getcwd()\n",
    "    # change dir to data\n",
    "    os.chdir('/Users/cristinamulas/Desktop/transfer_learning_keras/data')\n",
    "    root_path = os.getcwd()\n",
    "    for folder in folders: # loop over the list of fules\n",
    "        os.mkdir(os.path.join(root_path,folder))"
   ]
  },
  {
   "cell_type": "code",
   "execution_count": 31,
   "metadata": {},
   "outputs": [],
   "source": [
    "create_dirs(['test', 'val', 'train'])"
   ]
  },
  {
   "cell_type": "code",
   "execution_count": 93,
   "metadata": {},
   "outputs": [],
   "source": [
    "def mode_files_into_folders(path, cls):\n",
    "    \n",
    "    val_ratio = 0.15\n",
    "    test_ratio = 0.05\n",
    "    data_dir = path\n",
    "\n",
    "\n",
    "    \n",
    "    os.makedirs(data_dir +'/train' + '/' + cls, exist_ok=True) \n",
    "    os.makedirs(data_dir +'/val' +'/' + cls, exist_ok=True)\n",
    "    os.makedirs(data_dir +'/test'+'/' + cls, exist_ok=True)\n",
    "\n",
    "\n",
    "    allFileNames = [i for i in os.listdir(data_dir) if cls in i]\n",
    "    np.random.shuffle(allFileNames)\n",
    "    train_FileNames, val_FileNames, test_FileNames = np.split(np.array(allFileNames),\n",
    "                                                              [int(len(allFileNames)* (1 - val_ratio + test_ratio)), \n",
    "                                                               int(len(allFileNames)* (1 - test_ratio))])\n",
    "\n",
    "\n",
    "    train_FileNames = [data_dir +'/'+ name for name in train_FileNames.tolist()]\n",
    "    val_FileNames = [data_dir +'/' + name for name in val_FileNames.tolist()]\n",
    "    test_FileNames = [data_dir +'/' + name for name in test_FileNames.tolist()]\n",
    "\n",
    "    print('Total images: ', len(allFileNames))\n",
    "    print('Training: ', len(train_FileNames))\n",
    "    print('Validation: ', len(val_FileNames))\n",
    "    print('Testing: ', len(test_FileNames))\n",
    "\n",
    "\n",
    "    for name in train_FileNames:\n",
    "        if os.path.isfile(name):\n",
    "            shutil.move(name, data_dir + '/train'+ '/' + cls)\n",
    "    for name in test_FileNames:\n",
    "        if os.path.isfile(name):\n",
    "            shutil.move(name, data_dir + '/test'+ '/' +  cls)\n",
    "    for name in val_FileNames:\n",
    "        if os.path.isfile(name):\n",
    "\n",
    "            shutil.move(name, data_dir +'/val' +  '/' + cls)\n"
   ]
  },
  {
   "cell_type": "code",
   "execution_count": 96,
   "metadata": {},
   "outputs": [
    {
     "data": {
      "application/javascript": [
       "\n",
       "        if (window._pyforest_update_imports_cell) { window._pyforest_update_imports_cell('import numpy as np'); }\n",
       "    "
      ],
      "text/plain": [
       "<IPython.core.display.Javascript object>"
      ]
     },
     "metadata": {},
     "output_type": "display_data"
    },
    {
     "data": {
      "application/javascript": [
       "\n",
       "        if (window._pyforest_update_imports_cell) { window._pyforest_update_imports_cell('import numpy as np'); }\n",
       "    "
      ],
      "text/plain": [
       "<IPython.core.display.Javascript object>"
      ]
     },
     "metadata": {},
     "output_type": "display_data"
    },
    {
     "data": {
      "application/javascript": [
       "\n",
       "        if (window._pyforest_update_imports_cell) { window._pyforest_update_imports_cell('import numpy as np'); }\n",
       "    "
      ],
      "text/plain": [
       "<IPython.core.display.Javascript object>"
      ]
     },
     "metadata": {},
     "output_type": "display_data"
    },
    {
     "name": "stdout",
     "output_type": "stream",
     "text": [
      "Total images:  576\n",
      "Training:  518\n",
      "Validation:  29\n",
      "Testing:  29\n"
     ]
    }
   ],
   "source": [
    "mode_files_into_folders('/Users/cristinamulas/Desktop/transfer_learning_keras/data','wine')"
   ]
  },
  {
   "cell_type": "code",
   "execution_count": null,
   "metadata": {},
   "outputs": [],
   "source": []
  }
 ],
 "metadata": {
  "kernelspec": {
   "display_name": "Python 3",
   "language": "python",
   "name": "python3"
  },
  "language_info": {
   "codemirror_mode": {
    "name": "ipython",
    "version": 3
   },
   "file_extension": ".py",
   "mimetype": "text/x-python",
   "name": "python",
   "nbconvert_exporter": "python",
   "pygments_lexer": "ipython3",
   "version": "3.7.7"
  }
 },
 "nbformat": 4,
 "nbformat_minor": 4
}
