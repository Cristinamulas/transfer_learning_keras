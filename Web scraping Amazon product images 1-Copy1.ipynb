{
 "cells": [
  {
   "cell_type": "markdown",
   "metadata": {},
   "source": [
    "- Crear env"
   ]
  },
  {
   "cell_type": "code",
   "execution_count": 1,
   "metadata": {},
   "outputs": [],
   "source": [
    "from selenium import webdriver\n",
    "from bs4 import BeautifulSoup\n",
    "from selenium.webdriver.common.by import By\n",
    "from selenium.webdriver.support.ui import WebDriverWait\n",
    "from selenium.webdriver.support import expected_conditions as EC\n",
    "from selenium.common.exceptions import TimeoutException\n",
    "import time\n",
    "import os\n",
    "from urllib.request import urlopen\n",
    "import shutil\n",
    "import random\n",
    "\n"
   ]
  },
  {
   "cell_type": "code",
   "execution_count": 20,
   "metadata": {},
   "outputs": [
    {
     "data": {
      "text/plain": [
       "'/Users/cristinamulas/Desktop/deep_learning_project'"
      ]
     },
     "execution_count": 20,
     "metadata": {},
     "output_type": "execute_result"
    }
   ],
   "source": [
    "os.getcwd() # para correr el scrip tengo que estar en este folder"
   ]
  },
  {
   "cell_type": "code",
   "execution_count": 25,
   "metadata": {},
   "outputs": [
    {
     "data": {
      "text/plain": [
       "'/Users/cristinamulas/Desktop/transfer_learning_keras'"
      ]
     },
     "execution_count": 25,
     "metadata": {},
     "output_type": "execute_result"
    }
   ],
   "source": [
    "### Corre esto primero que la function\n",
    "os.getcwd()\n",
    "os.chdir('/Users/cristinamulas/Desktop/transfer_learning_keras')\n",
    "os.getcwd()\n",
    "\n"
   ]
  },
  {
   "cell_type": "code",
   "execution_count": 26,
   "metadata": {},
   "outputs": [],
   "source": [
    "# it need to test it mira el directory donde estas antes de correrlo\n",
    "def image_search (search_names, number_pages, folder_name):\n",
    "    \"\"\" Atr search_name  list of str\n",
    "            number_pages int\n",
    "            folder_name str\n",
    "    \"\"\"\n",
    "\n",
    "\n",
    "    chromedriver = \"/Users/cristinamulas/Downloads/chromedriver\"\n",
    "    os.environ[\"webdriver.chrome.driver\"] = chromedriver\n",
    "    driver = webdriver.Chrome(chromedriver)\n",
    "    count = 1\n",
    "    # new = []\n",
    "    search = search_names\n",
    "    for name in search:\n",
    "        for page in range(1,number_pages):\n",
    "            url = f'https://www.amazon.com/s?k={name}&i=wholefoods&bbn=18473610011&page={page}'\n",
    "            time.sleep(10)\n",
    "            driver.get(url)\n",
    "            driver.implicitly_wait(30)\n",
    "            content = driver.page_source\n",
    "            soup = BeautifulSoup(content, 'html.parser')\n",
    "            block_images = soup.findAll('div', class_= \"a-section aok-relative s-image-square-aspect\")\n",
    "            images_list = [ i.find('img').attrs['src'] for i in block_images]\n",
    "        #     new.append(images_list)\n",
    "            count = 1 # start counting\n",
    "\n",
    "            for image in images_list: # loop over the list\n",
    "\n",
    "                file_name = name + str(count) +'.jpg' \n",
    "                count += 1\n",
    "                folder = os.path.join(os.getcwd(), folder_name)\n",
    "\n",
    "                #Create The folder according to search name\n",
    "                if not os.path.exists(folder):\n",
    "                    os.makedirs(folder)\n",
    "                imageFile = open(folder + \"/\"+ file_name, 'wb')\n",
    "\n",
    "                imageFile.write(urlopen(image).read()) #This will read the image file from the link and download it and save it in the folder mentioned all at the same time\n",
    "                imageFile.close()"
   ]
  },
  {
   "cell_type": "code",
   "execution_count": 27,
   "metadata": {},
   "outputs": [],
   "source": [
    "image_search(['wine', 'chips'], 2, 'data') # corre una pagina "
   ]
  },
  {
   "cell_type": "code",
   "execution_count": 29,
   "metadata": {},
   "outputs": [
    {
     "data": {
      "text/plain": [
       "'/Users/cristinamulas/Desktop/transfer_learning_keras'"
      ]
     },
     "execution_count": 29,
     "metadata": {},
     "output_type": "execute_result"
    }
   ],
   "source": [
    "# os.chdir(os.getcwd() + '/data')\n",
    "os.getcwd()"
   ]
  },
  {
   "cell_type": "code",
   "execution_count": 30,
   "metadata": {},
   "outputs": [],
   "source": [
    "def create_dirs(folders):\n",
    "    # change the current dir to data\n",
    "    os.getcwd()\n",
    "    # change dir to data\n",
    "    os.chdir('/Users/cristinamulas/Desktop/transfer_learning_keras/data')\n",
    "    root_path = os.getcwd()\n",
    "    for folder in folders: # loop over the list of fules\n",
    "        os.mkdir(os.path.join(root_path,folder))"
   ]
  },
  {
   "cell_type": "code",
   "execution_count": 31,
   "metadata": {},
   "outputs": [],
   "source": [
    "create_dirs(['test', 'val', 'train'])"
   ]
  },
  {
   "cell_type": "code",
   "execution_count": 32,
   "metadata": {},
   "outputs": [],
   "source": [
    "def mode_files_into_folders(path, cls):\n",
    "    \n",
    "    val_ratio = 0.15\n",
    "    test_ratio = 0.05\n",
    "    data_dir = path\n",
    "\n",
    "\n",
    "    \n",
    "    os.makedirs(data_dir +'/train' + '/' + cls, exist_ok=True) \n",
    "    os.makedirs(data_dir +'/val' +'/' + cls, exist_ok=True)\n",
    "    os.makedirs(data_dir +'/test'+'/' + cls, exist_ok=True)\n",
    "\n",
    "\n",
    "    allFileNames = [i for i in os.listdir(data_dir) if cls in i]\n",
    "    np.random.shuffle(allFileNames)\n",
    "    train_FileNames, val_FileNames, test_FileNames = np.split(np.array(allFileNames),\n",
    "                                                              [int(len(allFileNames)* (1 - val_ratio + test_ratio)), \n",
    "                                                               int(len(allFileNames)* (1 - test_ratio))])\n",
    "\n",
    "\n",
    "    train_FileNames = [data_dir +'/'+ name for name in train_FileNames.tolist()]\n",
    "    val_FileNames = [data_dir +'/' + name for name in val_FileNames.tolist()]\n",
    "    test_FileNames = [data_dir +'/' + name for name in test_FileNames.tolist()]\n",
    "\n",
    "    print('Total images: ', len(allFileNames))\n",
    "    print('Training: ', len(train_FileNames))\n",
    "    print('Validation: ', len(val_FileNames))\n",
    "    print('Testing: ', len(test_FileNames))\n",
    "\n",
    "\n",
    "    for name in train_FileNames:\n",
    "        if os.path.isfile(name):\n",
    "            shutil.move(name, data_dir + '/train'+ '/' + cls)\n",
    "    for name in test_FileNames:\n",
    "        if os.path.isfile(name):\n",
    "            shutil.move(name, data_dir + '/test'+ '/' +  cls)\n",
    "    for name in val_FileNames:\n",
    "        if os.path.isfile(name):\n",
    "\n",
    "            shutil.move(name, data_dir +'/val' +  '/' + cls)\n"
   ]
  },
  {
   "cell_type": "code",
   "execution_count": 33,
   "metadata": {},
   "outputs": [
    {
     "data": {
      "application/javascript": [
       "\n",
       "        if (window._pyforest_update_imports_cell) { window._pyforest_update_imports_cell('import numpy as np'); }\n",
       "    "
      ],
      "text/plain": [
       "<IPython.core.display.Javascript object>"
      ]
     },
     "metadata": {},
     "output_type": "display_data"
    },
    {
     "data": {
      "application/javascript": [
       "\n",
       "        if (window._pyforest_update_imports_cell) { window._pyforest_update_imports_cell('import numpy as np'); }\n",
       "    "
      ],
      "text/plain": [
       "<IPython.core.display.Javascript object>"
      ]
     },
     "metadata": {},
     "output_type": "display_data"
    },
    {
     "data": {
      "application/javascript": [
       "\n",
       "        if (window._pyforest_update_imports_cell) { window._pyforest_update_imports_cell('import numpy as np'); }\n",
       "    "
      ],
      "text/plain": [
       "<IPython.core.display.Javascript object>"
      ]
     },
     "metadata": {},
     "output_type": "display_data"
    },
    {
     "name": "stdout",
     "output_type": "stream",
     "text": [
      "Total images:  24\n",
      "Training:  21\n",
      "Validation:  1\n",
      "Testing:  2\n"
     ]
    }
   ],
   "source": [
    "mode_files_into_folders('/Users/cristinamulas/Desktop/transfer_learning_keras/data','chips')"
   ]
  },
  {
   "cell_type": "code",
   "execution_count": null,
   "metadata": {},
   "outputs": [],
   "source": []
  }
 ],
 "metadata": {
  "kernelspec": {
   "display_name": "Python 3",
   "language": "python",
   "name": "python3"
  },
  "language_info": {
   "codemirror_mode": {
    "name": "ipython",
    "version": 3
   },
   "file_extension": ".py",
   "mimetype": "text/x-python",
   "name": "python",
   "nbconvert_exporter": "python",
   "pygments_lexer": "ipython3",
   "version": "3.7.7"
  }
 },
 "nbformat": 4,
 "nbformat_minor": 4
}
